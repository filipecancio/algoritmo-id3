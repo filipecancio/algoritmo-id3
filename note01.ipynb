{
 "cells": [
  {
   "cell_type": "markdown",
   "metadata": {},
   "source": [
    "A partir do conjunto de treinamento da base de dados `Letras`, cuja classe pode possuir um dos dois valores (sim ou não), faça o que se pede:\n",
    "- Construa a árvore de decisão com o algoritmo ID3. Deve-se criar uma planilha eletrônica para realizar os cálculos da entropia, do ganho esperado e do ganho de informação;\n",
    "- Classifica as instâncias do conjunto de teste em um dos dois possíveis valores da classe a partir da árvore de decisão criada anteriormente (modelo).\n",
    "Enviar como anexo nesta atividade:\n",
    "- Árvore construída e a planilha eletrônica com os cálculos;\n",
    "- Instâncias de teste classificadas a partir do modelo construído."
   ]
  },
  {
   "cell_type": "code",
   "execution_count": 57,
   "metadata": {},
   "outputs": [
    {
     "data": {
      "text/html": [
       "<div>\n",
       "<style scoped>\n",
       "    .dataframe tbody tr th:only-of-type {\n",
       "        vertical-align: middle;\n",
       "    }\n",
       "\n",
       "    .dataframe tbody tr th {\n",
       "        vertical-align: top;\n",
       "    }\n",
       "\n",
       "    .dataframe thead th {\n",
       "        text-align: right;\n",
       "    }\n",
       "</style>\n",
       "<table border=\"1\" class=\"dataframe\">\n",
       "  <thead>\n",
       "    <tr style=\"text-align: right;\">\n",
       "      <th></th>\n",
       "      <th>montante</th>\n",
       "      <th>idade</th>\n",
       "      <th>salário</th>\n",
       "      <th>conta</th>\n",
       "      <th>empréstimo</th>\n",
       "    </tr>\n",
       "  </thead>\n",
       "  <tbody>\n",
       "    <tr>\n",
       "      <th>0</th>\n",
       "      <td>médio</td>\n",
       "      <td>sênior</td>\n",
       "      <td>baixo</td>\n",
       "      <td>sim</td>\n",
       "      <td>não</td>\n",
       "    </tr>\n",
       "    <tr>\n",
       "      <th>1</th>\n",
       "      <td>médio</td>\n",
       "      <td>sênior</td>\n",
       "      <td>baixo</td>\n",
       "      <td>não</td>\n",
       "      <td>não</td>\n",
       "    </tr>\n",
       "    <tr>\n",
       "      <th>2</th>\n",
       "      <td>baixo</td>\n",
       "      <td>sênior</td>\n",
       "      <td>baixo</td>\n",
       "      <td>sim</td>\n",
       "      <td>sim</td>\n",
       "    </tr>\n",
       "    <tr>\n",
       "      <th>3</th>\n",
       "      <td>alto</td>\n",
       "      <td>média</td>\n",
       "      <td>baixo</td>\n",
       "      <td>sim</td>\n",
       "      <td>sim</td>\n",
       "    </tr>\n",
       "    <tr>\n",
       "      <th>4</th>\n",
       "      <td>alto</td>\n",
       "      <td>jovem</td>\n",
       "      <td>alto</td>\n",
       "      <td>sim</td>\n",
       "      <td>sim</td>\n",
       "    </tr>\n",
       "  </tbody>\n",
       "</table>\n",
       "</div>"
      ],
      "text/plain": [
       "  montante   idade salário conta empréstimo\n",
       "0    médio  sênior   baixo   sim        não\n",
       "1    médio  sênior   baixo   não        não\n",
       "2    baixo  sênior   baixo   sim        sim\n",
       "3     alto   média   baixo   sim        sim\n",
       "4     alto   jovem    alto   sim        sim"
      ]
     },
     "execution_count": 57,
     "metadata": {},
     "output_type": "execute_result"
    }
   ],
   "source": [
    "#importando as classes necessarias\n",
    "import pandas as pd\n",
    "import numpy as np\n",
    "import math\n",
    "\n",
    "#Matrz de teste\n",
    "df = pd.read_csv(\"data/aula01.csv\",sep=\";\")\n",
    "df.head()"
   ]
  },
  {
   "cell_type": "markdown",
   "metadata": {},
   "source": [
    "### Calculando a entropia\n",
    "Para calcular a entropia precisamos de uma coluna precisamos compara-la com de classe (no caso empréstimo) e retornar suas recorrências."
   ]
  },
  {
   "cell_type": "code",
   "execution_count": 109,
   "metadata": {},
   "outputs": [
    {
     "data": {
      "text/html": [
       "<div>\n",
       "<style scoped>\n",
       "    .dataframe tbody tr th:only-of-type {\n",
       "        vertical-align: middle;\n",
       "    }\n",
       "\n",
       "    .dataframe tbody tr th {\n",
       "        vertical-align: top;\n",
       "    }\n",
       "\n",
       "    .dataframe thead th {\n",
       "        text-align: right;\n",
       "    }\n",
       "</style>\n",
       "<table border=\"1\" class=\"dataframe\">\n",
       "  <thead>\n",
       "    <tr style=\"text-align: right;\">\n",
       "      <th></th>\n",
       "      <th>montante</th>\n",
       "      <th>empréstimo</th>\n",
       "      <th>contagem</th>\n",
       "    </tr>\n",
       "  </thead>\n",
       "  <tbody>\n",
       "    <tr>\n",
       "      <th>0</th>\n",
       "      <td>alto</td>\n",
       "      <td>não</td>\n",
       "      <td>2</td>\n",
       "    </tr>\n",
       "    <tr>\n",
       "      <th>1</th>\n",
       "      <td>alto</td>\n",
       "      <td>sim</td>\n",
       "      <td>3</td>\n",
       "    </tr>\n",
       "    <tr>\n",
       "      <th>2</th>\n",
       "      <td>baixo</td>\n",
       "      <td>sim</td>\n",
       "      <td>4</td>\n",
       "    </tr>\n",
       "    <tr>\n",
       "      <th>3</th>\n",
       "      <td>médio</td>\n",
       "      <td>não</td>\n",
       "      <td>3</td>\n",
       "    </tr>\n",
       "    <tr>\n",
       "      <th>4</th>\n",
       "      <td>médio</td>\n",
       "      <td>sim</td>\n",
       "      <td>2</td>\n",
       "    </tr>\n",
       "  </tbody>\n",
       "</table>\n",
       "</div>"
      ],
      "text/plain": [
       "  montante empréstimo  contagem\n",
       "0     alto        não         2\n",
       "1     alto        sim         3\n",
       "2    baixo        sim         4\n",
       "3    médio        não         3\n",
       "4    médio        sim         2"
      ]
     },
     "execution_count": 109,
     "metadata": {},
     "output_type": "execute_result"
    }
   ],
   "source": [
    "sub_df = df[['montante','empréstimo']].groupby(['montante','empréstimo']).size().reset_index().rename(columns={0: 'contagem'})\n",
    "sub_df"
   ]
  },
  {
   "cell_type": "markdown",
   "metadata": {},
   "source": [
    "em seguida vamos criar uma função que define a entropia"
   ]
  },
  {
   "cell_type": "code",
   "execution_count": 170,
   "metadata": {},
   "outputs": [],
   "source": [
    "\n",
    "def get_entropy(x):\n",
    "    count_list = x['contagem'].values\n",
    "    total = count_list.sum()\n",
    "    result = 0\n",
    "    for count in count_list:\n",
    "        if(count > 0):\n",
    "            temp = count/total * np.log2(count/total) * -1\n",
    "            result = result+temp\n",
    "    return result"
   ]
  },
  {
   "cell_type": "markdown",
   "metadata": {},
   "source": [
    "e agora filtar a coluna de acordo a função"
   ]
  },
  {
   "cell_type": "code",
   "execution_count": 204,
   "metadata": {},
   "outputs": [
    {
     "data": {
      "text/html": [
       "<div>\n",
       "<style scoped>\n",
       "    .dataframe tbody tr th:only-of-type {\n",
       "        vertical-align: middle;\n",
       "    }\n",
       "\n",
       "    .dataframe tbody tr th {\n",
       "        vertical-align: top;\n",
       "    }\n",
       "\n",
       "    .dataframe thead th {\n",
       "        text-align: right;\n",
       "    }\n",
       "</style>\n",
       "<table border=\"1\" class=\"dataframe\">\n",
       "  <thead>\n",
       "    <tr style=\"text-align: right;\">\n",
       "      <th></th>\n",
       "      <th>montante</th>\n",
       "      <th>entropia</th>\n",
       "    </tr>\n",
       "  </thead>\n",
       "  <tbody>\n",
       "    <tr>\n",
       "      <th>0</th>\n",
       "      <td>alto</td>\n",
       "      <td>0.970951</td>\n",
       "    </tr>\n",
       "    <tr>\n",
       "      <th>1</th>\n",
       "      <td>baixo</td>\n",
       "      <td>0.000000</td>\n",
       "    </tr>\n",
       "    <tr>\n",
       "      <th>2</th>\n",
       "      <td>médio</td>\n",
       "      <td>0.970951</td>\n",
       "    </tr>\n",
       "  </tbody>\n",
       "</table>\n",
       "</div>"
      ],
      "text/plain": [
       "  montante  entropia\n",
       "0     alto  0.970951\n",
       "1    baixo  0.000000\n",
       "2    médio  0.970951"
      ]
     },
     "execution_count": 204,
     "metadata": {},
     "output_type": "execute_result"
    }
   ],
   "source": [
    "entropy_df = sub_df.groupby(['montante']).apply(lambda x: get_entropy(x)).reset_index()\n",
    "entropy_df.rename(columns={0: 'entropia'})"
   ]
  },
  {
   "cell_type": "markdown",
   "metadata": {},
   "source": [
    "### Calcular o ganho\n",
    "vamos precisar novamente calcular a entropia mas desta vez considerando o valor total da tabela"
   ]
  },
  {
   "cell_type": "code",
   "execution_count": 222,
   "metadata": {},
   "outputs": [],
   "source": [
    "\n",
    "def get_gain(x):\n",
    "    sub_total = x['contagem'].values.sum()\n",
    "    total = sub_df[\"contagem\"].sum()\n",
    "    entropy = get_entropy(x)\n",
    "    return sub_total/total * entropy\n"
   ]
  },
  {
   "cell_type": "markdown",
   "metadata": {},
   "source": [
    "vamos aplicar a função de forma semelhante ao de entropia:"
   ]
  },
  {
   "cell_type": "code",
   "execution_count": 223,
   "metadata": {},
   "outputs": [
    {
     "data": {
      "text/html": [
       "<div>\n",
       "<style scoped>\n",
       "    .dataframe tbody tr th:only-of-type {\n",
       "        vertical-align: middle;\n",
       "    }\n",
       "\n",
       "    .dataframe tbody tr th {\n",
       "        vertical-align: top;\n",
       "    }\n",
       "\n",
       "    .dataframe thead th {\n",
       "        text-align: right;\n",
       "    }\n",
       "</style>\n",
       "<table border=\"1\" class=\"dataframe\">\n",
       "  <thead>\n",
       "    <tr style=\"text-align: right;\">\n",
       "      <th></th>\n",
       "      <th>montante</th>\n",
       "      <th>entropia</th>\n",
       "    </tr>\n",
       "  </thead>\n",
       "  <tbody>\n",
       "    <tr>\n",
       "      <th>0</th>\n",
       "      <td>alto</td>\n",
       "      <td>0.346768</td>\n",
       "    </tr>\n",
       "    <tr>\n",
       "      <th>1</th>\n",
       "      <td>baixo</td>\n",
       "      <td>0.000000</td>\n",
       "    </tr>\n",
       "    <tr>\n",
       "      <th>2</th>\n",
       "      <td>médio</td>\n",
       "      <td>0.346768</td>\n",
       "    </tr>\n",
       "  </tbody>\n",
       "</table>\n",
       "</div>"
      ],
      "text/plain": [
       "  montante  entropia\n",
       "0     alto  0.346768\n",
       "1    baixo  0.000000\n",
       "2    médio  0.346768"
      ]
     },
     "execution_count": 223,
     "metadata": {},
     "output_type": "execute_result"
    }
   ],
   "source": [
    "total_entropy_df = sub_df.groupby(['montante']).apply(lambda x: get_gain(x)).reset_index()\n",
    "total_entropy_df = total_entropy_df.rename(columns={0: 'entropia'})\n",
    "total_entropy_df"
   ]
  },
  {
   "cell_type": "markdown",
   "metadata": {},
   "source": [
    "por fim podemos calcular o ganho total"
   ]
  },
  {
   "cell_type": "code",
   "execution_count": 221,
   "metadata": {},
   "outputs": [
    {
     "data": {
      "text/plain": [
       "0.6935361388961918"
      ]
     },
     "execution_count": 221,
     "metadata": {},
     "output_type": "execute_result"
    }
   ],
   "source": [
    "total_entropy_df['entropia'].sum()"
   ]
  }
 ],
 "metadata": {
  "kernelspec": {
   "display_name": "Python 3",
   "language": "python",
   "name": "python3"
  },
  "language_info": {
   "codemirror_mode": {
    "name": "ipython",
    "version": 3
   },
   "file_extension": ".py",
   "mimetype": "text/x-python",
   "name": "python",
   "nbconvert_exporter": "python",
   "pygments_lexer": "ipython3",
   "version": "3.7.9"
  }
 },
 "nbformat": 4,
 "nbformat_minor": 2
}
